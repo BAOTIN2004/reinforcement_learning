{
 "cells": [
  {
   "cell_type": "markdown",
   "metadata": {},
   "source": [
    "Bài toán:\n",
    "Ở khoa Kỹ thuật và công nghệ có một công ty độc quyền bán dây\n",
    "cáp mạng tên là Thu Phương. Danh Nam là nhân viên bán hàng\n",
    "của công ty. Với đặc thù là bán lẻ, nên không thể bán theo cuộn\n",
    "được, vì vậy Nam cần chia nhỏ các đoạn dây ra để bán. Biết rằng\n",
    "với độ dài mỗi đoạn dây khác nhau thì giá khác nhau. Bảng giá\n",
    "mà cửa hàng quy định như sau:\n",
    "Độ dài (m)     1 2 3 4  5  6  7  8\n",
    "Giá tiền (VNĐ) 1 5 8 12 13 17 20 22\n"
   ]
  },
  {
   "cell_type": "markdown",
   "metadata": {},
   "source": [
    "![alt text](image-1.png)"
   ]
  },
  {
   "cell_type": "code",
   "execution_count": null,
   "metadata": {},
   "outputs": [],
   "source": []
  },
  {
   "cell_type": "code",
   "execution_count": null,
   "metadata": {},
   "outputs": [],
   "source": []
  }
 ],
 "metadata": {
  "kernelspec": {
   "display_name": "ML01",
   "language": "python",
   "name": "python3"
  },
  "language_info": {
   "name": "python",
   "version": "3.10.15"
  }
 },
 "nbformat": 4,
 "nbformat_minor": 2
}
