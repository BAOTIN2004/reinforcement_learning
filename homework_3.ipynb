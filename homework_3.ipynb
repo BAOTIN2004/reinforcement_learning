{
 "cells": [
  {
   "cell_type": "markdown",
   "metadata": {},
   "source": [
    "<h1>Bài toán:</h1>\n",
    "\n"
   ]
  },
  {
   "cell_type": "code",
   "execution_count": null,
   "metadata": {},
   "outputs": [],
   "source": [
    "Ở khoa Kỹ thuật và công nghệ có một công ty độc quyền bán dây\n",
    "cáp mạng tên là Thu Phương. Danh Nam là nhân viên bán hàng\n",
    "của công ty. Với đặc thù là bán lẻ, nên không thể bán theo cuộn\n",
    "được, vì vậy Nam cần chia nhỏ các đoạn dây ra để bán. Biết rằng\n",
    "với độ dài mỗi đoạn dây khác nhau thì giá khác nhau. Bảng giá\n",
    "mà cửa hàng quy định như sau:\n",
    "Độ dài (m)     1 2 3 4  5  6  7  8\n",
    "Giá tiền (VNĐ) 1 5 8 12 13 17 20 22\n"
   ]
  },
  {
   "cell_type": "code",
   "execution_count": 11,
   "metadata": {},
   "outputs": [],
   "source": [
    "W=[0,1,2,3,4,5,6,7]\n",
    "V=[0,1,5,8,12,13,17,20]\n",
    "\n"
   ]
  },
  {
   "cell_type": "code",
   "execution_count": 26,
   "metadata": {},
   "outputs": [
    {
     "ename": "IndexError",
     "evalue": "list index out of range",
     "output_type": "error",
     "traceback": [
      "\u001b[1;31m---------------------------------------------------------------------------\u001b[0m",
      "\u001b[1;31mIndexError\u001b[0m                                Traceback (most recent call last)",
      "Cell \u001b[1;32mIn[26], line 14\u001b[0m\n\u001b[0;32m     12\u001b[0m   F[\u001b[38;5;241m0\u001b[39m,a] \u001b[38;5;241m=\u001b[39m \u001b[38;5;241m0\u001b[39m\n\u001b[0;32m     13\u001b[0m \u001b[38;5;28;01mfor\u001b[39;00m m \u001b[38;5;129;01min\u001b[39;00m \u001b[38;5;28mrange\u001b[39m(\u001b[38;5;241m1\u001b[39m,M\u001b[38;5;241m+\u001b[39m\u001b[38;5;241m1\u001b[39m):\n\u001b[1;32m---> 14\u001b[0m     \u001b[38;5;28;01mif\u001b[39;00m \u001b[43mW\u001b[49m\u001b[43m[\u001b[49m\u001b[43mm\u001b[49m\u001b[43m]\u001b[49m \u001b[38;5;241m<\u001b[39m\u001b[38;5;241m=\u001b[39ma:\n\u001b[0;32m     15\u001b[0m       F[m,a] \u001b[38;5;241m=\u001b[39m \u001b[38;5;28mmax\u001b[39m(F[m\u001b[38;5;241m-\u001b[39m\u001b[38;5;241m1\u001b[39m, a \u001b[38;5;241m-\u001b[39m W[m]] \u001b[38;5;241m+\u001b[39m V[m], F[m\u001b[38;5;241m-\u001b[39m\u001b[38;5;241m1\u001b[39m,a])\n\u001b[0;32m     16\u001b[0m     \u001b[38;5;66;03m# print(F)\u001b[39;00m\n",
      "\u001b[1;31mIndexError\u001b[0m: list index out of range"
     ]
    }
   ],
   "source": [
    "import numpy as np\n",
    "M = 8\n",
    "L=30\n",
    "F = np.zeros((M+1,L+1), dtype=int)\n",
    "#khong mon, khong trong tai\n",
    "F[0,0] = 0\n",
    "#khong trong tai, M mon hang\n",
    "for m in range(1, M+1):\n",
    "  F[m,0] = 0\n",
    "#co trong tai, khong co hang\n",
    "for a in range(1, L+1):\n",
    "  F[0,a] = 0\n",
    "for m in range(1,M+1):\n",
    "    if W[m] <=a:\n",
    "      F[m,a] = max(F[m-1, a - W[m]] + V[m], F[m-1,a])\n",
    "    # print(F)\n",
    "F"
   ]
  },
  {
   "cell_type": "code",
   "execution_count": 12,
   "metadata": {},
   "outputs": [
    {
     "ename": "UnboundLocalError",
     "evalue": "local variable 'max_val' referenced before assignment",
     "output_type": "error",
     "traceback": [
      "\u001b[1;31m---------------------------------------------------------------------------\u001b[0m",
      "\u001b[1;31mUnboundLocalError\u001b[0m                         Traceback (most recent call last)",
      "Cell \u001b[1;32mIn[12], line 21\u001b[0m\n\u001b[0;32m     18\u001b[0m n \u001b[38;5;241m=\u001b[39m \u001b[38;5;241m7\u001b[39m\n\u001b[0;32m     20\u001b[0m \u001b[38;5;66;03m# Tính lợi nhuận tối đa\u001b[39;00m\n\u001b[1;32m---> 21\u001b[0m result \u001b[38;5;241m=\u001b[39m \u001b[43mmax_profit\u001b[49m\u001b[43m(\u001b[49m\u001b[43mprice\u001b[49m\u001b[43m,\u001b[49m\u001b[43m \u001b[49m\u001b[43mn\u001b[49m\u001b[43m)\u001b[49m\n\u001b[0;32m     22\u001b[0m \u001b[38;5;28mprint\u001b[39m(\u001b[38;5;124mf\u001b[39m\u001b[38;5;124m\"\u001b[39m\u001b[38;5;124mLợi nhuận tối đa có thể đạt được: \u001b[39m\u001b[38;5;132;01m{\u001b[39;00mresult\u001b[38;5;132;01m}\u001b[39;00m\u001b[38;5;124m VNĐ\u001b[39m\u001b[38;5;124m\"\u001b[39m)\n",
      "Cell \u001b[1;32mIn[12], line 9\u001b[0m, in \u001b[0;36mmax_profit\u001b[1;34m(price, n)\u001b[0m\n\u001b[0;32m      6\u001b[0m \u001b[38;5;28;01mfor\u001b[39;00m i \u001b[38;5;129;01min\u001b[39;00m \u001b[38;5;28mrange\u001b[39m(\u001b[38;5;241m1\u001b[39m, n \u001b[38;5;241m+\u001b[39m \u001b[38;5;241m1\u001b[39m):\n\u001b[0;32m      8\u001b[0m     \u001b[38;5;28;01mfor\u001b[39;00m j \u001b[38;5;129;01min\u001b[39;00m \u001b[38;5;28mrange\u001b[39m(i):\n\u001b[1;32m----> 9\u001b[0m         max_val \u001b[38;5;241m=\u001b[39m \u001b[38;5;28mmax\u001b[39m(\u001b[43mmax_val\u001b[49m, price[j] \u001b[38;5;241m+\u001b[39m dp[i \u001b[38;5;241m-\u001b[39m j \u001b[38;5;241m-\u001b[39m \u001b[38;5;241m1\u001b[39m])\n\u001b[0;32m     10\u001b[0m     dp[i] \u001b[38;5;241m=\u001b[39m max_val\n\u001b[0;32m     12\u001b[0m \u001b[38;5;28;01mreturn\u001b[39;00m dp[n]\n",
      "\u001b[1;31mUnboundLocalError\u001b[0m: local variable 'max_val' referenced before assignment"
     ]
    }
   ],
   "source": [
    "def max_profit(price, n):\n",
    "    # Khởi tạo mảng dp với n+1 phần tử, ban đầu là 0\n",
    "    dp = [0] * (n + 1)\n",
    "\n",
    "    # Tính giá trị lớn nhất cho mỗi độ dài từ 1 đến n\n",
    "    for i in range(1, n + 1):\n",
    "        max_val = -float('inf')\n",
    "        for j in range(i):\n",
    "            max_val = max(max_val, price[j] + dp[i - j - 1])\n",
    "        dp[i] = max_val\n",
    "    \n",
    "    return dp[n]\n",
    "\n",
    "# Bảng giá\n",
    "price = [1, 5, 8, 12, 13, 17, 20, 22]\n",
    "\n",
    "# Chiều dài đoạn dây\n",
    "n = 7\n",
    "\n",
    "# Tính lợi nhuận tối đa\n",
    "result = max_profit(price, n)\n",
    "print(f\"Lợi nhuận tối đa có thể đạt được: {result} VNĐ\")\n"
   ]
  },
  {
   "cell_type": "code",
   "execution_count": 2,
   "metadata": {},
   "outputs": [
    {
     "name": "stdout",
     "output_type": "stream",
     "text": [
      "Lợi nhuận tối đa có thể đạt được khi cắt đoạn dây dài 20 mét: 60 VNĐ\n"
     ]
    }
   ],
   "source": [
    "# Bảng giá cho các đoạn dây từ 1m đến 8m\n",
    "price = [1, 5, 8, 12, 13, 17, 20, 22]\n",
    "\n",
    "# Hàm tìm lợi nhuận tối đa khi cắt dây dài n mét\n",
    "def max_profit(n, price):\n",
    "    # Tạo mảng dp để lưu giá trị lớn nhất có thể thu được với từng độ dài\n",
    "    dp = [0] * (n + 1)\n",
    "    \n",
    "    # Tính lợi nhuận tối đa cho mỗi độ dài từ 1 đến n\n",
    "    for i in range(1, n + 1):\n",
    "        max_val = -float('inf')\n",
    "        # Thử tất cả các cách cắt đoạn dây\n",
    "        for j in range(1, min(i, len(price)) + 1):\n",
    "            max_val = max(max_val, price[j - 1] + dp[i - j])  # Sửa lại chỉ số\n",
    "        dp[i] = max_val\n",
    "    \n",
    "    return dp[n]\n",
    "\n",
    "# Độ dài đoạn dây là 12 mét\n",
    "n = 20\n",
    "\n",
    "# Tính lợi nhuận tối đa\n",
    "result = max_profit(n, price)\n",
    "print(f\"Lợi nhuận tối đa có thể đạt được khi cắt đoạn dây dài {n} mét: {result} VNĐ\")\n"
   ]
  },
  {
   "cell_type": "markdown",
   "metadata": {},
   "source": [
    "<h2>Giải tay</h2>\n",
    "![alt text](image-1.png)"
   ]
  },
  {
   "cell_type": "code",
   "execution_count": 23,
   "metadata": {},
   "outputs": [
    {
     "name": "stdout",
     "output_type": "stream",
     "text": [
      "Lợi nhuận tối đa có thể đạt được: 24 VNĐ\n",
      "Cách cắt tối ưu: [4, 4]\n"
     ]
    }
   ],
   "source": [
    "def HUET_VienThong(price, n):\n",
    "    L = [0] * (n + 1)\n",
    "\n",
    "    # Lưu cách chia đoạn dây\n",
    "    cuts = [[] for i in range(n + 1)]  \n",
    "\n",
    "    for i in range(1, n + 1):\n",
    "        max_val = 0\n",
    "        best_cut = 0  # Lưu tạm cách cắt tốt nhất cho từng độ dài\n",
    "        for j in range(i):\n",
    "            if price[j] + L[i - j - 1] > max_val:\n",
    "                max_val = price[j] + L[i - j - 1]\n",
    "                # +1 vì j bắt đầu từ 0\n",
    "                best_cut = j + 1  \n",
    "        L[i] = max_val\n",
    "        # Lưu cách cắt tốt nhất cho từng độ dài \n",
    "        cuts[i] = cuts[i - best_cut] + [best_cut]\n",
    "    \n",
    "    return L[n], cuts[n]\n",
    "\n",
    "price = [1, 5, 8, 12, 13, 17, 20, 22]\n",
    "\n",
    "# Chieu dài cần cắt\n",
    "n = 8\n",
    "\n",
    "result, cut_list = HUET_VienThong(price, n)\n",
    "print(f\"Lợi nhuận tối đa có thể đạt được: {result} VNĐ\")\n",
    "print(f\"Cách cắt tối ưu: {cut_list}\")\n"
   ]
  }
 ],
 "metadata": {
  "kernelspec": {
   "display_name": "ML01",
   "language": "python",
   "name": "python3"
  },
  "language_info": {
   "codemirror_mode": {
    "name": "ipython",
    "version": 3
   },
   "file_extension": ".py",
   "mimetype": "text/x-python",
   "name": "python",
   "nbconvert_exporter": "python",
   "pygments_lexer": "ipython3",
   "version": "3.10.15"
  }
 },
 "nbformat": 4,
 "nbformat_minor": 2
}
