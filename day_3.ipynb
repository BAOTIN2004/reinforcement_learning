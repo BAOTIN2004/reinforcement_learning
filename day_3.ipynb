{
 "cells": [
  {
   "cell_type": "code",
   "execution_count": 7,
   "metadata": {},
   "outputs": [
    {
     "name": "stdout",
     "output_type": "stream",
     "text": [
      "55\n"
     ]
    }
   ],
   "source": [
    "def Fibo(N):\n",
    "    if N==1 or N==2:\n",
    "        return 1\n",
    "    return Fibo(N-1) + Fibo(N-2)\n",
    "N=10\n",
    "print(Fibo(N))"
   ]
  },
  {
   "cell_type": "code",
   "execution_count": 4,
   "metadata": {},
   "outputs": [],
   "source": [
    "import numpy as np\n",
    "def dp_fibo(N):\n",
    "    F=np.zeros(N+1)\n",
    "    F[1]=1\n",
    "    F[2]=2\n",
    "    for i in range(3,N+1,1):\n",
    "        F[i]=F[i-1]+F[i-2]\n",
    "    return F\n",
    "        "
   ]
  },
  {
   "cell_type": "code",
   "execution_count": 17,
   "metadata": {},
   "outputs": [
    {
     "name": "stdout",
     "output_type": "stream",
     "text": [
      "[[0 0 0 0 0 0 0 0 0]\n",
      " [0 0 0 1 1 1 1 1 1]\n",
      " [0 0 0 1 2 2 2 2 2]\n",
      " [0 0 0 1 2 3 3 3 3]\n",
      " [0 0 0 1 2 3 4 4 4]]\n"
     ]
    }
   ],
   "source": [
    "Y=\"abcdfehg\"\n",
    "X=\"cdfe\"\n",
    "F=np.zeros((len(X)+1,len(Y)+1),dtype=int)\n",
    "F[0,0]=0\n",
    "for i in range (1,len(X)):\n",
    "    F[i,0]=0\n",
    "for j in range (1,len(Y)):\n",
    "    F[0,j]=0\n",
    "\n",
    "for i in range (len(X)):\n",
    "    for j in range (len(Y)):\n",
    "        if X[i]==Y[j]:\n",
    "            F[i+1,j+1]=F[i,j]+1\n",
    "        else: \n",
    "            F[i+1,j+1]=max(F[i,j+1],F[i+1,j])\n",
    "print(F)"
   ]
  },
  {
   "cell_type": "code",
   "execution_count": 18,
   "metadata": {},
   "outputs": [
    {
     "name": "stdout",
     "output_type": "stream",
     "text": [
      "6\n"
     ]
    }
   ],
   "source": [
    "def tgian_nn(N):\n",
    "    F=np.zeros(N+1,dtype=int)\n",
    "    F[1]=0\n",
    "    for i in range(2,N+1):\n",
    "        F[i]= F[i-1]+1\n",
    "        if (i%2)==0:\n",
    "            F[i]=min(F[i-1]+1,F[i//2]+2)\n",
    "    return F[N]\n",
    "\n",
    "a=tgian_nn(10)\n",
    "print(a)"
   ]
  },
  {
   "cell_type": "code",
   "execution_count": null,
   "metadata": {},
   "outputs": [],
   "source": [
    "# can nang kg\n",
    "m=[1,10,30,20,50,7,99,1,1,5] \n",
    "# tien \n",
    "n=[100,250,5000,500,300,30,2000000,1,350,100000]\n",
    "\n",
    "m_xe=100\n",
    "m_shopping=0\n",
    "count=0             \n",
    "\n",
    "while m_shopping <=m_xe:\n",
    "    "
   ]
  },
  {
   "cell_type": "code",
   "execution_count": 21,
   "metadata": {},
   "outputs": [
    {
     "name": "stdout",
     "output_type": "stream",
     "text": [
      "[[      0       0       0 ...       0       0       0]\n",
      " [      0     100     200 ...    9800    9900   10000]\n",
      " [      0     100     200 ...    9800    9900   10000]\n",
      " ...\n",
      " [      0     100     200 ...  420000 2000000 2000100]\n",
      " [      0     350     700 ...  420000 2000000 2000350]\n",
      " [      0     350     700 ... 1901050 2000000 2000350]]\n"
     ]
    }
   ],
   "source": [
    "M=10\n",
    "L=100\n",
    "W=[0,1,10,30,20,50,7,99,1,1,5] \n",
    "V=[0,100,250,5000,500,300,30000,2000000,1,350,100000]\n",
    "F=np.zeros((M+1,L+1),dtype=int)\n",
    "\n",
    "# khong mon, khong trong tai\n",
    "F[0,0]=0\n",
    "\n",
    "# khong tron tai, M mon hang\n",
    "for m in range(1,M+1):\n",
    "    F[M,0]=0\n",
    "\n",
    "# co trong tai, kh co hang\n",
    "for l in range (1,L+1):\n",
    "    F[0,l]=0\n",
    "\n",
    "for m in range (1,M+1):\n",
    "    for l in range (1,L+1):\n",
    "        if W[m]>l:\n",
    "            F[m,l]=F[m-1,l]\n",
    "        if W[m]<=l:\n",
    "            F[m,l]=max(F[m-1,l],F[m,l-W[m]]+V[m])\n",
    "print(F)"
   ]
  },
  {
   "cell_type": "code",
   "execution_count": null,
   "metadata": {},
   "outputs": [],
   "source": []
  }
 ],
 "metadata": {
  "kernelspec": {
   "display_name": "ML01",
   "language": "python",
   "name": "python3"
  },
  "language_info": {
   "codemirror_mode": {
    "name": "ipython",
    "version": 3
   },
   "file_extension": ".py",
   "mimetype": "text/x-python",
   "name": "python",
   "nbconvert_exporter": "python",
   "pygments_lexer": "ipython3",
   "version": "3.10.15"
  }
 },
 "nbformat": 4,
 "nbformat_minor": 2
}
