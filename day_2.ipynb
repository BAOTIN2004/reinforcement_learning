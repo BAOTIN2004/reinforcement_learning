{
 "cells": [
  {
   "cell_type": "code",
   "execution_count": 5,
   "metadata": {},
   "outputs": [
    {
     "name": "stdout",
     "output_type": "stream",
     "text": [
      "7\n"
     ]
    }
   ],
   "source": [
    "def min_time_to_reach(n):\n",
    "    queue = [(1, 0)]  # (vị trí, thời gian)\n",
    "    visited = set()\n",
    "\n",
    "    while queue:\n",
    "        pos, time = queue.pop(0)\n",
    "\n",
    "        if pos == n:\n",
    "            return time\n",
    "\n",
    "        if pos + 1 <= n and pos + 1 not in visited:\n",
    "            visited.add(pos + 1)\n",
    "            queue.append((pos + 1, time + 1))\n",
    "\n",
    "        if pos * 2 <= n and pos * 2 not in visited:\n",
    "            visited.add(pos * 2)\n",
    "            queue.append((pos * 2, time + 2))\n",
    "\n",
    "n = 16\n",
    "print(min_time_to_reach(n))\n"
   ]
  },
  {
   "cell_type": "code",
   "execution_count": null,
   "metadata": {},
   "outputs": [],
   "source": []
  }
 ],
 "metadata": {
  "kernelspec": {
   "display_name": "ML01",
   "language": "python",
   "name": "python3"
  },
  "language_info": {
   "codemirror_mode": {
    "name": "ipython",
    "version": 3
   },
   "file_extension": ".py",
   "mimetype": "text/x-python",
   "name": "python",
   "nbconvert_exporter": "python",
   "pygments_lexer": "ipython3",
   "version": "3.10.0"
  }
 },
 "nbformat": 4,
 "nbformat_minor": 2
}
